{
 "cells": [
  {
   "cell_type": "code",
   "execution_count": null,
   "metadata": {},
   "outputs": [],
   "source": [
    "import json\n",
    "import os\n",
    "import sys\n",
    "import cv2 as cv\n",
    "import numpy as np\n",
    "import os\n",
    "from shutil import copyfile\n",
    "from pathlib import Path\n",
    "from tqdm import tqdm\n",
    "from shapely.geometry import Point\n",
    "from shapely.geometry.polygon import Polygon"
   ]
  },
  {
   "cell_type": "code",
   "execution_count": null,
   "metadata": {},
   "outputs": [],
   "source": [
    "MaineFile = '/home/roadzen/ParasWork/ConUHack2020/data/cars_train.txt'\n",
    "OUT_IMG_DIR = '/home/roadzen/ParasWork/ConUHack2020/detectron_2/datasets/car/coco_train2014/'\n",
    "OUT_JSON = '/home/roadzen/ParasWork/ConUHack2020/detectron_2/datasets/car/annotations/instances_train2014.json'"
   ]
  },
  {
   "cell_type": "code",
   "execution_count": null,
   "metadata": {},
   "outputs": [],
   "source": [
    "MaineFile = '/home/roadzen/ParasWork/ConUHack2020/data/cars_test.txt'\n",
    "OUT_IMG_DIR = '/home/roadzen/ParasWork/ConUHack2020/detectron_2/datasets/car/coco_val2014/'\n",
    "OUT_JSON = '/home/roadzen/ParasWork/ConUHack2020/detectron_2/datasets/car/annotations/instances_val2014.json'"
   ]
  },
  {
   "cell_type": "code",
   "execution_count": null,
   "metadata": {},
   "outputs": [],
   "source": [
    "imageLocations = None\n",
    "file = open(MaineFile,'r')\n",
    "imageLocations = file.readlines()\n",
    "file.close()\n",
    "\n",
    "\n",
    "print(len(imageLocations))\n",
    "\n",
    "imageLocations = list(set(imageLocations))\n",
    "\n",
    "print(len(imageLocations))\n",
    "\n",
    "print(imageLocations[-1][:-1])"
   ]
  },
  {
   "cell_type": "code",
   "execution_count": null,
   "metadata": {},
   "outputs": [],
   "source": [
    "TOTAL = len(imageLocations)\n",
    "#TOTAL = 100"
   ]
  },
  {
   "cell_type": "raw",
   "metadata": {},
   "source": [
    "(u'images', {u'id': 5, u'file_name': u'000005.jpg', u'width': 500, u'height': 375})\n",
    "\n",
    "(u'annotations', {u'segmentation': [[262, 210, 262, 339, 324, 339, 324, 210]], u'area': 7998, u'iscrowd': 0, u'ignore': 0, u'image_id': 5, u'bbox': [262, 210, 62, 129], u'category_id': 9, u'id': 1})\n",
    "\n",
    "{u'supercategory': u'none', u'id': 2, u'name': u'bicycle'}"
   ]
  },
  {
   "cell_type": "code",
   "execution_count": null,
   "metadata": {},
   "outputs": [],
   "source": [
    "class annotation:\n",
    "    def __init__(self):\n",
    "        self.segmentation = []\n",
    "        self.area = 0\n",
    "        self.iscrowd = 0\n",
    "        self.ignore = 0\n",
    "        self.image_id = 0\n",
    "        self.bbox = []\n",
    "        self.category_id = 0\n",
    "        self.id = 0"
   ]
  },
  {
   "cell_type": "code",
   "execution_count": null,
   "metadata": {},
   "outputs": [],
   "source": [
    "class imageINFO:\n",
    "    def __init__(self):\n",
    "        self.id = 0\n",
    "        self.file_name = 0\n",
    "        self.width = 0\n",
    "        self.height = 0"
   ]
  },
  {
   "cell_type": "code",
   "execution_count": null,
   "metadata": {},
   "outputs": [],
   "source": [
    "class BOX:\n",
    "    height = 0\n",
    "    top = 0\n",
    "    width = 0\n",
    "    left = 0\n",
    "    \n",
    "def getBox(LABELS):\n",
    "    ObjectBox = BOX()\n",
    "    ObjectBox.height = float(LABELS[4]) - int(LABELS[2])\n",
    "    ObjectBox.width = float(LABELS[3]) - int(LABELS[1])\n",
    "    ObjectBox.left = float(LABELS[1])\n",
    "    ObjectBox.top = float(LABELS[2])\n",
    "    return ObjectBox"
   ]
  },
  {
   "cell_type": "code",
   "execution_count": null,
   "metadata": {},
   "outputs": [],
   "source": [
    "def getBoxinImagePixels(ObjectBox,imageHeight,imageWidth):\n",
    "    ObjectBox.height = int(float(ObjectBox.height*imageHeight))\n",
    "    ObjectBox.width = int(float(ObjectBox.width*imageWidth))\n",
    "    ObjectBox.left = int(float(ObjectBox.left*imageWidth))\n",
    "    ObjectBox.top = int(float(ObjectBox.top*imageHeight))\n",
    "    return ObjectBox\n",
    "\n",
    "def scaleBox(ObjectBox,imageHeight,imageWidth):\n",
    "    ObjectBox.height = float(ObjectBox.height/imageHeight)\n",
    "    ObjectBox.width = float(ObjectBox.width/imageWidth)\n",
    "    ObjectBox.left = float(ObjectBox.left/imageWidth)\n",
    "    ObjectBox.top = float(ObjectBox.top/imageHeight)\n",
    "    return ObjectBox\n",
    "\n",
    "def listAllFourCoordinatesofBox(ObjectBox):\n",
    "    return [int(ObjectBox.left),int(ObjectBox.top),\n",
    "    int(ObjectBox.left + ObjectBox.width),int(ObjectBox.top),\n",
    "    int(ObjectBox.left + ObjectBox.width),int(ObjectBox.top + ObjectBox.height),\n",
    "    int(ObjectBox.left),int(ObjectBox.top + ObjectBox.height)]"
   ]
  },
  {
   "cell_type": "code",
   "execution_count": null,
   "metadata": {},
   "outputs": [],
   "source": [
    "class OUTPUT_JSON:\n",
    "    def __init__(self):\n",
    "        self.type = 'instances'\n",
    "        self.images = []\n",
    "        self.annotations = []\n",
    "        self.categories = []\n",
    "    def reInit(self):\n",
    "        self.images = []\n",
    "        self.annotations = []\n",
    "        self.categories = []\n",
    "FinalJSON = OUTPUT_JSON()"
   ]
  },
  {
   "cell_type": "code",
   "execution_count": null,
   "metadata": {},
   "outputs": [],
   "source": [
    "def getAnnotationObj(imageOBJ,INSTANCE_ID_COUNT,ObjectBox):\n",
    "    annotationOBJ = annotation()\n",
    "    annotationOBJ.id = INSTANCE_ID_COUNT\n",
    "    annotationOBJ.image_id = imageOBJ.id\n",
    "    annotationOBJ.bbox = [int(ObjectBox.left),\n",
    "                          int(ObjectBox.top),\n",
    "                          int(ObjectBox.width),\n",
    "                          int(ObjectBox.height)]\n",
    "    annotationOBJ.area = int(ObjectBox.height)*int(ObjectBox.width)\n",
    "    annotationOBJ.segmentation = [listAllFourCoordinatesofBox(ObjectBox)]\n",
    "    return annotationOBJ"
   ]
  },
  {
   "cell_type": "code",
   "execution_count": null,
   "metadata": {},
   "outputs": [],
   "source": [
    "FINAL_IMAGE_HEIGHT = 448\n",
    "FINAL_IMAGE_WIDTH = 448\n",
    "USE_FIXED_SCALE = True"
   ]
  },
  {
   "cell_type": "code",
   "execution_count": null,
   "metadata": {},
   "outputs": [],
   "source": [
    "IMAGE_ID_COUNT = 1\n",
    "INSTANCE_ID_COUNT = 1\n",
    "\n",
    "FinalJSON.reInit()\n",
    "\n",
    "for index in tqdm(range(TOTAL)):\n",
    "    original_IMG_PATH = imageLocations[index][:-1]\n",
    "    GT_FILE = original_IMG_PATH[:-4] + '.txt'\n",
    "    \n",
    "    lines = 0\n",
    "    with open(GT_FILE) as textFile:\n",
    "        lines = [line.split() for line in textFile]\n",
    "    \n",
    "    image = cv.imread(original_IMG_PATH)\n",
    "    imageHeight,imageWidth,_ = image.shape\n",
    "    \n",
    "    imageOBJ = imageINFO()\n",
    "    imageOBJ.id = IMAGE_ID_COUNT\n",
    "    imageOBJ.height,imageOBJ.width = (FINAL_IMAGE_HEIGHT, FINAL_IMAGE_WIDTH)\n",
    "    imageOBJ.file_name = str(IMAGE_ID_COUNT)\n",
    "    imageOBJ.file_name = imageOBJ.file_name.zfill(6) + '.jpg'\n",
    "    outputFilePath = OUT_IMG_DIR + imageOBJ.file_name\n",
    "    FinalJSON.images.append(vars(imageOBJ))\n",
    "    \n",
    "    for line in lines:\n",
    "        label = line[0]\n",
    "        ObjectBox = getBox(line)\n",
    "        ObjectBox = scaleBox(ObjectBox,imageHeight,imageWidth)\n",
    "        ObjectBox = getBoxinImagePixels(ObjectBox,FINAL_IMAGE_HEIGHT,FINAL_IMAGE_WIDTH)\n",
    "        annotationOBJ = getAnnotationObj(imageOBJ,INSTANCE_ID_COUNT,ObjectBox)\n",
    "        INSTANCE_ID_COUNT += 1\n",
    "        annotationOBJ.category_id = int(label)\n",
    "        FinalJSON.annotations.append(vars(annotationOBJ)) \n",
    "    if USE_FIXED_SCALE:\n",
    "        image = cv.resize(image, (FINAL_IMAGE_HEIGHT, FINAL_IMAGE_WIDTH))\n",
    "    cv.imwrite(outputFilePath,image)\n",
    "    IMAGE_ID_COUNT += 1"
   ]
  },
  {
   "cell_type": "code",
   "execution_count": null,
   "metadata": {},
   "outputs": [],
   "source": [
    "from serverCode.classes import *"
   ]
  },
  {
   "cell_type": "code",
   "execution_count": null,
   "metadata": {},
   "outputs": [],
   "source": [
    "class category:\n",
    "    def __init__(self):\n",
    "        self.supercategory = 'none'\n",
    "        self.id = -1\n",
    "        self.name = ''\n",
    "for index in range(len(CLASSES)):\n",
    "    categoryOBJ = category()\n",
    "    categoryOBJ.name = CLASSES[index]\n",
    "    categoryOBJ.id = index + 1\n",
    "    FinalJSON.categories.append(vars(categoryOBJ))"
   ]
  },
  {
   "cell_type": "code",
   "execution_count": null,
   "metadata": {},
   "outputs": [],
   "source": [
    "import json\n",
    "\n",
    "with open(OUT_JSON, 'w') as fp:\n",
    "    json.dump(vars(FinalJSON), fp)"
   ]
  },
  {
   "cell_type": "code",
   "execution_count": null,
   "metadata": {},
   "outputs": [],
   "source": []
  }
 ],
 "metadata": {
  "kernelspec": {
   "display_name": "Python 3",
   "language": "python",
   "name": "python3"
  },
  "language_info": {
   "codemirror_mode": {
    "name": "ipython",
    "version": 3
   },
   "file_extension": ".py",
   "mimetype": "text/x-python",
   "name": "python",
   "nbconvert_exporter": "python",
   "pygments_lexer": "ipython3",
   "version": "3.6.9"
  }
 },
 "nbformat": 4,
 "nbformat_minor": 4
}
