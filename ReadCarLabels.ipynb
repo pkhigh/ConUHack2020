{
 "cells": [
  {
   "cell_type": "code",
   "execution_count": null,
   "metadata": {},
   "outputs": [],
   "source": [
    "import numpy as np"
   ]
  },
  {
   "cell_type": "code",
   "execution_count": null,
   "metadata": {},
   "outputs": [],
   "source": [
    "import scipy.io\n",
    "mat = scipy.io.loadmat('data/devkit/cars_meta.mat')"
   ]
  },
  {
   "cell_type": "code",
   "execution_count": null,
   "metadata": {},
   "outputs": [],
   "source": [
    "for i in range(196):\n",
    "    print(mat['class_names'][0,i][0])"
   ]
  },
  {
   "cell_type": "code",
   "execution_count": null,
   "metadata": {},
   "outputs": [],
   "source": [
    "for i in range(196):\n",
    "    print('\\t{\"color\": [0, 0, 255], \"isthing\": 1, \"id\": ' + str(i+1) +', \"name\": \"' + mat['class_names'][0,i][0] + '\"},')"
   ]
  },
  {
   "cell_type": "code",
   "execution_count": null,
   "metadata": {},
   "outputs": [],
   "source": [
    "CLASSES = []\n",
    "for i in range(196):\n",
    "    CLASSES.append(mat['class_names'][0,i][0])\n",
    "CLASSES"
   ]
  },
  {
   "cell_type": "code",
   "execution_count": null,
   "metadata": {},
   "outputs": [],
   "source": [
    "import scipy.io\n",
    "mat = scipy.io.loadmat('data/devkit/cars_train_annos.mat')\n",
    "DIR_PATH = '/home/roadzen/ParasWork/ConUHack2020/data/cars_train/'"
   ]
  },
  {
   "cell_type": "code",
   "execution_count": null,
   "metadata": {},
   "outputs": [],
   "source": [
    "for i in range(len(mat['annotations'][0])):\n",
    "    fname = mat['annotations'][0][i][5][0]\n",
    "    bbox_x1 = mat['annotations'][0][i][0][0][0]\n",
    "    bbox_y1 = mat['annotations'][0][i][1][0][0]\n",
    "    bbox_x2 = mat['annotations'][0][i][2][0][0]\n",
    "    bbox_y2 = mat['annotations'][0][i][3][0][0]\n",
    "    classIndex = mat['annotations'][0][i][4][0][0]\n",
    "    file = open(DIR_PATH + fname[0:-4] + '.txt','w')\n",
    "    line = str(classIndex) + ' ' + str(bbox_x1) + ' ' + str(bbox_y1) + ' ' + str(bbox_x2) + ' ' + str(bbox_y2)\n",
    "    file.write(line)\n",
    "    file.close()"
   ]
  },
  {
   "cell_type": "code",
   "execution_count": null,
   "metadata": {},
   "outputs": [],
   "source": []
  }
 ],
 "metadata": {
  "kernelspec": {
   "display_name": "Python 3",
   "language": "python",
   "name": "python3"
  },
  "language_info": {
   "codemirror_mode": {
    "name": "ipython",
    "version": 3
   },
   "file_extension": ".py",
   "mimetype": "text/x-python",
   "name": "python",
   "nbconvert_exporter": "python",
   "pygments_lexer": "ipython3",
   "version": "3.6.9"
  }
 },
 "nbformat": 4,
 "nbformat_minor": 4
}
